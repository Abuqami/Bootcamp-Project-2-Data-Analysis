{
 "cells": [
  {
   "cell_type": "code",
   "execution_count": 1,
   "id": "56ba37c5",
   "metadata": {},
   "outputs": [],
   "source": [
    "import pandas as pd\n",
    "import numpy as np\n",
    "import matplotlib as plt\n",
    "import seaborn as sns"
   ]
  },
  {
   "cell_type": "code",
   "execution_count": 2,
   "id": "797a9fb0",
   "metadata": {},
   "outputs": [
    {
     "data": {
      "text/plain": [
       "(600, 46)"
      ]
     },
     "execution_count": 2,
     "metadata": {},
     "output_type": "execute_result"
    }
   ],
   "source": [
    "\n",
    "df = pd.read_csv('Data_engineers_Survey_results.csv') #read dataset\n",
    "\n",
    "\n",
    "#print first five rows\n",
    "df.shape\n",
    "\n"
   ]
  },
  {
   "cell_type": "code",
   "execution_count": 3,
   "id": "cdab5dc4",
   "metadata": {},
   "outputs": [
    {
     "data": {
      "text/html": [
       "<div>\n",
       "<style scoped>\n",
       "    .dataframe tbody tr th:only-of-type {\n",
       "        vertical-align: middle;\n",
       "    }\n",
       "\n",
       "    .dataframe tbody tr th {\n",
       "        vertical-align: top;\n",
       "    }\n",
       "\n",
       "    .dataframe thead th {\n",
       "        text-align: right;\n",
       "    }\n",
       "</style>\n",
       "<table border=\"1\" class=\"dataframe\">\n",
       "  <thead>\n",
       "    <tr style=\"text-align: right;\">\n",
       "      <th></th>\n",
       "      <th>Q5_M1</th>\n",
       "      <th>Q5_M2</th>\n",
       "      <th>Q5_M3</th>\n",
       "      <th>Q5_M4</th>\n",
       "      <th>Q5_M5</th>\n",
       "    </tr>\n",
       "  </thead>\n",
       "  <tbody>\n",
       "    <tr>\n",
       "      <th>0</th>\n",
       "      <td>Focusing too much on maintaining data pipeline...</td>\n",
       "      <td>NaN</td>\n",
       "      <td>NaN</td>\n",
       "      <td>NaN</td>\n",
       "      <td>NaN</td>\n",
       "    </tr>\n",
       "    <tr>\n",
       "      <th>1</th>\n",
       "      <td>Constantly playing catch up with stakeholder r...</td>\n",
       "      <td>NaN</td>\n",
       "      <td>NaN</td>\n",
       "      <td>NaN</td>\n",
       "      <td>NaN</td>\n",
       "    </tr>\n",
       "    <tr>\n",
       "      <th>2</th>\n",
       "      <td>Focusing too much time on finding and fixing e...</td>\n",
       "      <td>Unreasonable requests from stakeholders</td>\n",
       "      <td>NaN</td>\n",
       "      <td>NaN</td>\n",
       "      <td>NaN</td>\n",
       "    </tr>\n",
       "    <tr>\n",
       "      <th>3</th>\n",
       "      <td>Fast pace of requests from stakeholders</td>\n",
       "      <td>Constantly playing catch up with stakeholder r...</td>\n",
       "      <td>NaN</td>\n",
       "      <td>NaN</td>\n",
       "      <td>NaN</td>\n",
       "    </tr>\n",
       "    <tr>\n",
       "      <th>4</th>\n",
       "      <td>Focusing too much on maintaining data pipeline...</td>\n",
       "      <td>Fast pace of requests from stakeholders</td>\n",
       "      <td>Focusing too much time on finding and fixing e...</td>\n",
       "      <td>NaN</td>\n",
       "      <td>NaN</td>\n",
       "    </tr>\n",
       "  </tbody>\n",
       "</table>\n",
       "</div>"
      ],
      "text/plain": [
       "                                               Q5_M1  \\\n",
       "0  Focusing too much on maintaining data pipeline...   \n",
       "1  Constantly playing catch up with stakeholder r...   \n",
       "2  Focusing too much time on finding and fixing e...   \n",
       "3            Fast pace of requests from stakeholders   \n",
       "4  Focusing too much on maintaining data pipeline...   \n",
       "\n",
       "                                               Q5_M2  \\\n",
       "0                                                NaN   \n",
       "1                                                NaN   \n",
       "2            Unreasonable requests from stakeholders   \n",
       "3  Constantly playing catch up with stakeholder r...   \n",
       "4            Fast pace of requests from stakeholders   \n",
       "\n",
       "                                               Q5_M3 Q5_M4 Q5_M5  \n",
       "0                                                NaN   NaN   NaN  \n",
       "1                                                NaN   NaN   NaN  \n",
       "2                                                NaN   NaN   NaN  \n",
       "3                                                NaN   NaN   NaN  \n",
       "4  Focusing too much time on finding and fixing e...   NaN   NaN  "
      ]
     },
     "execution_count": 3,
     "metadata": {},
     "output_type": "execute_result"
    }
   ],
   "source": [
    "#remove unwanted symbols\n",
    "df_obj = df.select_dtypes(['object'])\n",
    "df[df_obj.columns] = df_obj.apply(lambda df: df.str.strip())\n",
    "df.head()\n",
    "df[['Q5_M1','Q5_M2','Q5_M3','Q5_M4','Q5_M5']].head()"
   ]
  },
  {
   "cell_type": "code",
   "execution_count": 5,
   "id": "132cf92b",
   "metadata": {},
   "outputs": [
    {
     "data": {
      "text/plain": [
       "(600, 53)"
      ]
     },
     "execution_count": 5,
     "metadata": {},
     "output_type": "execute_result"
    }
   ],
   "source": [
    "q5Answers = ['Focusing too much on maintaining data pipelines and/or manual processes',\n",
    "    'Constantly playing catch up with stakeholder requests',\n",
    "       'Focusing too much time on finding and fixing errors',\n",
    "       'Unreasonable requests from stakeholders',\n",
    "       'Fast pace of requests from stakeholders',\n",
    "       'Lack of feedback on the products delivered',\n",
    "       'I have never felt burnt out from my job']\n",
    "# Based on the list you provided, here are column names that could represent each element:\n",
    "\n",
    "#     Maintenance of Data Pipelines/Manual Processes\n",
    "#     Catching up with Stakeholder Requests\n",
    "#     Time Spent on Error Identification/Fixing\n",
    "#     Unreasonable Stakeholder Requests\n",
    "#     Fast-Paced Stakeholder Requests\n",
    "#     Lack of Feedback on Delivered Products\n",
    "#     Absence of Job Burnout Experience\n",
    "\n",
    "\n",
    "colNames = ['Maintenance of Data Pipelines/Manual Processes','Catching up with Stakeholder Requests','Time Spent on Error Identification/Fixing','Unreasonable Stakeholder Requests','Fast-Paced Stakeholder Requests','Lack of Feedback on Delivered Products','Absence of Job Burnout Experience']\n",
    "for i in range(len(q5Answers)):\n",
    "    ans = q5Answers[i]\n",
    "    df[colNames[i]] = np.where(\n",
    "        (df[\"Q5_M1\"] == ans) |\n",
    "        (df[\"Q5_M2\"] == ans) |\n",
    "        (df[\"Q5_M3\"] == ans) |\n",
    "        (df[\"Q5_M4\"] == ans) |\n",
    "        (df[\"Q5_M5\"] == ans),\n",
    "        True,\n",
    "        False\n",
    "    )\n",
    "df.shape"
   ]
  }
 ],
 "metadata": {
  "kernelspec": {
   "display_name": "Python 3 (ipykernel)",
   "language": "python",
   "name": "python3"
  },
  "language_info": {
   "codemirror_mode": {
    "name": "ipython",
    "version": 3
   },
   "file_extension": ".py",
   "mimetype": "text/x-python",
   "name": "python",
   "nbconvert_exporter": "python",
   "pygments_lexer": "ipython3",
   "version": "3.11.4"
  }
 },
 "nbformat": 4,
 "nbformat_minor": 5
}
