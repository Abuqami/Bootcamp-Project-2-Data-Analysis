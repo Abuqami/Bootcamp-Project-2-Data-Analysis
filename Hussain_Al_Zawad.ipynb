{
 "cells": [
  {
   "cell_type": "code",
   "execution_count": null,
   "id": "56ba37c5",
   "metadata": {},
   "outputs": [],
   "source": [
    "import pandas as pd\n",
    "import numpy as np\n",
    "import matplotlib.pyplot as plt\n",
    "import seaborn as sns"
   ]
  },
  {
   "cell_type": "code",
   "execution_count": null,
   "id": "a08d9030",
   "metadata": {},
   "outputs": [],
   "source": [
    "pd.set_option('display.max_columns', None)"
   ]
  },
  {
   "cell_type": "code",
   "execution_count": null,
   "id": "797a9fb0",
   "metadata": {},
   "outputs": [],
   "source": [
    "\n",
    "df = pd.read_csv('Data_engineers_Survey_results.csv') #read dataset\n",
    "#remove unwanted symbols\n",
    "df_obj = df.select_dtypes(['object'])\n",
    "df[df_obj.columns] = df_obj.apply(lambda dataEngineerResponses: dataEngineerResponses.str.strip()) "
   ]
  },
  {
   "cell_type": "code",
   "execution_count": null,
   "id": "e20a65ad",
   "metadata": {
    "scrolled": true
   },
   "outputs": [],
   "source": [
    "df['QE'].replace('Less than one year', 0, inplace=True)\n",
    "\n",
    "pt = df.pivot_table(index = 'QE', columns='Q8',values ='Q3', aggfunc='sum')"
   ]
  },
  {
   "cell_type": "code",
   "execution_count": null,
   "id": "f85d7305",
   "metadata": {},
   "outputs": [],
   "source": [
    "df['QE'].replace('Less than one year', 0, inplace=True)\n",
    "df['QE'].astype(int)\n",
    "def categorizeYOE(years):\n",
    "    if years <= 5:\n",
    "        return '0-5 years'\n",
    "    elif years <= 10:\n",
    "        return '5-10 years'\n",
    "    elif years <= 15:\n",
    "        return '10-15 years'\n",
    "    elif years <= 20:\n",
    "        return '15-20 years'\n",
    "    else:\n",
    "        return '20+ years'"
   ]
  },
  {
   "cell_type": "code",
   "execution_count": null,
   "id": "34663bc3",
   "metadata": {},
   "outputs": [],
   "source": [
    "df['YOECat'] = df['QE'].astype(int).apply(categorizeYOE)"
   ]
  },
  {
   "cell_type": "code",
   "execution_count": null,
   "id": "412d7691",
   "metadata": {
    "scrolled": false
   },
   "outputs": [],
   "source": [
    "orderedYOE = ['0-5 years','5-10 years','10-15 years','15-20 years','20+ years']\n",
    "df['YOECat'] = pd.Categorical(df['YOECat'],orderedYOE)\n",
    "plt.figure(figsize=(20,12))\n",
    "age_mgmt = sns.countplot(data=df,\n",
    "            x=\"YOECat\",\n",
    "            hue=\"QC\",\n",
    "            palette=\"ch:r=-.5,l=.75\",\n",
    "           )\n",
    "plt.xlabel(\"Years of experiens\")\n",
    "plt.ylabel(\"Number of respondents\")\n",
    "sns.set(font_scale = 1.5)\n",
    "plt.title(\"Relationship between years of experience and management positions\")\n",
    "legend = plt.legend(title=\"Management position\")\n"
   ]
  },
  {
   "cell_type": "markdown",
   "id": "c6b18264",
   "metadata": {},
   "source": [
    "- most management level employees have 0-15 years of experience in the field of data engineering   \n",
    "\n",
    "- years of expereience have little to no effect on reaching management level "
   ]
  },
  {
   "cell_type": "code",
   "execution_count": null,
   "id": "1091283d",
   "metadata": {
    "scrolled": false
   },
   "outputs": [],
   "source": [
    "sns.set(font_scale = 1.1)\n",
    "sns.set_palette('ch:r=-.5,l=.75')\n",
    "plt.figure(figsize=(10,10))\n",
    "\n",
    "WLTitle = sns.countplot(data = df, x = 'QB', hue='Q8', hue_order=['All the time','Often','Sometimes','Rarely','Never'])\n",
    "sns.move_legend(WLTitle, \"upper left\", bbox_to_anchor=(1, 1))\n",
    "plt.xticks(rotation=-45);\n",
    "plt.title(\"Work life balance disruptiveness based on job title\")\n",
    "plt.ylabel(\"Number of respondents\")\n",
    "plt.xlabel('Job titles');"
   ]
  },
  {
   "cell_type": "markdown",
   "id": "bc570a9c",
   "metadata": {},
   "source": [
    "- Data & analytics lead mostly face work life balance issues compared to data engineers where a decent portion of participants only face rarely to never work life balance issues  "
   ]
  },
  {
   "cell_type": "code",
   "execution_count": null,
   "id": "5a3242c2",
   "metadata": {},
   "outputs": [],
   "source": [
    "ordered = ['Disagree strongly','Disagree somewhat','Agree somewhat','Agree strongly']\n",
    "df['Q15'] = pd.Categorical(df['Q15'],ordered)\n",
    "q15Graph = sns.histplot(data = df, x = 'Q15');\n",
    "plt.xticks(rotation = 30);"
   ]
  },
  {
   "cell_type": "markdown",
   "id": "a46179f7",
   "metadata": {},
   "source": [
    "- The majority of the participants agree that using cutting edge tools for managing data and building analytics are ineffective without processes that deploy, monitor and manage analytics throughout the lifecycle.     "
   ]
  },
  {
   "cell_type": "code",
   "execution_count": null,
   "id": "32f05e71",
   "metadata": {},
   "outputs": [],
   "source": [
    "orderedRev = ['Less than $10 Million','$10 Million to under $25 Million','$25 Million to under $50 Million','$50 Million to under $100 Million','$100 Million to under $250 Million','$250 Million to under $500 Million','$500 Million to under $1 Billion','$1 Billion or more']\n",
    "df['QI'] = pd.Categorical(df['QI'],orderedRev)"
   ]
  },
  {
   "cell_type": "code",
   "execution_count": null,
   "id": "313f6aee",
   "metadata": {},
   "outputs": [],
   "source": [
    "\n",
    "plt.figure(figsize=(30,50) )\n",
    "sns.set(font_scale = 3)\n",
    "sns.set_palette('crest')\n",
    "\n",
    "plt.subplot(3,1,1)\n",
    "revenue = sns.histplot(data = df[df['STATE']=='Georgia'], x = \"QI\")\n",
    "plt.xticks(rotation=-45);\n",
    "plt.title(\"company revenue in Georgia\")\n",
    "plt.ylabel(\"number of companies in a revenue category\");\n",
    "plt.xlabel(\"Company revenue category\");\n",
    "\n",
    "plt.subplot(3,1,2)\n",
    "revenue = sns.histplot(data = df[df['STATE']=='Florida'], x = \"QI\")\n",
    "plt.xticks(rotation=-45);\n",
    "plt.title(\"company revenue in Florida\")\n",
    "plt.ylabel(\"number of companies in a revenue category\");\n",
    "plt.xlabel(\"Company revenue category\");\n",
    "\n",
    "plt.subplot(3,1,3)\n",
    "revenue = sns.histplot(data = df[df['STATE']=='New York'], x = \"QI\")\n",
    "plt.xticks(rotation=-45);\n",
    "plt.title(\"company revenue in New York\")\n",
    "plt.ylabel(\"number of companies in a revenue category\");\n",
    "plt.xlabel(\"Company revenue category\");\n",
    "\n",
    "\n",
    "plt.tight_layout()"
   ]
  },
  {
   "cell_type": "markdown",
   "id": "3dfff48d",
   "metadata": {},
   "source": [
    "- from 3 states most of the revenue is between 100 to 500 million $"
   ]
  },
  {
   "cell_type": "code",
   "execution_count": null,
   "id": "4c93e282",
   "metadata": {},
   "outputs": [],
   "source": [
    "ordered = ['All the time','Often','Sometimes','Rarely','Never']\n",
    "df['Q8'] = pd.Categorical(df['Q8'],ordered)\n",
    "\n",
    "WLRevenue = sns.countplot(data = df, x = 'Q8', hue = 'QI', palette = 'ch:r=-.5,l=.75' )\n",
    "sns.move_legend(WLRevenue, \"upper left\", bbox_to_anchor=(1, 1))\n",
    "sns.set(font_scale = 2)\n",
    "plt.xticks(rotation = 45)\n",
    "plt.xlabel('Work life balance disruptiveness');\n",
    "plt.ylabel(\"Number of respondents\")\n",
    "\n",
    "plt.figure(figsize=[30,30]);\n"
   ]
  },
  {
   "cell_type": "code",
   "execution_count": null,
   "id": "abc783db",
   "metadata": {
    "scrolled": false
   },
   "outputs": [],
   "source": [
    "df['QE'].replace('Less than one year', 0, inplace=True)\n",
    "df['QE'].astype(int)\n",
    "plt.figure(figsize=[30,10])\n",
    " \n",
    "sns.set(font_scale = 3)\n",
    "ageCRev = sns.violinplot(data = df, x = 'QI', y = df['QE'].astype(int), cut = 0 )\n",
    "plt.title(\"Company revenue Category with years of experience\")\n",
    "plt.ylabel(\"Years of experience\");\n",
    "plt.xlabel(\"Company revenue category\");\n",
    "plt.xticks(rotation = 45);\n"
   ]
  },
  {
   "cell_type": "markdown",
   "id": "748da00a",
   "metadata": {},
   "source": [
    "- for companies with revenue less than 25 million, the average employee has around 3-5 years of experience \n",
    "- For companies starting from 25 million revenue per year, the average employee has more that 10 years of experience "
   ]
  },
  {
   "cell_type": "code",
   "execution_count": null,
   "id": "cd508d8a",
   "metadata": {},
   "outputs": [],
   "source": []
  }
 ],
 "metadata": {
  "kernelspec": {
   "display_name": "Python 3 (ipykernel)",
   "language": "python",
   "name": "python3"
  },
  "language_info": {
   "codemirror_mode": {
    "name": "ipython",
    "version": 3
   },
   "file_extension": ".py",
   "mimetype": "text/x-python",
   "name": "python",
   "nbconvert_exporter": "python",
   "pygments_lexer": "ipython3",
   "version": "3.11.4"
  }
 },
 "nbformat": 4,
 "nbformat_minor": 5
}
