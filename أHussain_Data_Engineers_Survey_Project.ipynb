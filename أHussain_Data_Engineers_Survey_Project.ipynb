{
 "cells": [
  {
   "cell_type": "code",
   "execution_count": 1,
   "id": "56ba37c5",
   "metadata": {},
   "outputs": [],
   "source": [
    "import pandas as pd\n",
    "import numpy as np\n",
    "import matplotlib as plt\n",
    "import seaborn as sns"
   ]
  },
  {
   "cell_type": "code",
   "execution_count": 2,
   "id": "32205ef5",
   "metadata": {},
   "outputs": [],
   "source": [
    "pd.set_option('display.max_columns', None)"
   ]
  },
  {
   "cell_type": "code",
   "execution_count": 3,
   "id": "797a9fb0",
   "metadata": {},
   "outputs": [],
   "source": [
    "\n",
    "df = pd.read_csv('Data_engineers_Survey_results.csv') #read dataset\n",
    "\n",
    "\n",
    "#remove unwanted symbols\n",
    "df_obj = df.select_dtypes(['object'])\n",
    "df[df_obj.columns] = df_obj.apply(lambda dataEngineerResponses: dataEngineerResponses.str.strip()) "
   ]
  },
  {
   "cell_type": "code",
   "execution_count": 4,
   "id": "b443ca62",
   "metadata": {},
   "outputs": [
    {
     "data": {
      "text/plain": [
       "(600, 46)"
      ]
     },
     "execution_count": 4,
     "metadata": {},
     "output_type": "execute_result"
    }
   ],
   "source": [
    "df.shape"
   ]
  },
  {
   "cell_type": "code",
   "execution_count": 5,
   "id": "b3ddffa7",
   "metadata": {},
   "outputs": [],
   "source": [
    "q14Ansewrs = ['Lack of buy-in from company leadership or other stakeholders',\n",
    "              'Lack of the right skills among employees',\n",
    "              'Organization isn’t sure how to implement this',\n",
    "              'Lack of knowledge around what DataOps is',\n",
    "              'Too busy to make it a priority',\n",
    "              'Difficulty communicating or engaging with other departments within company',\n",
    "              'Scale of incorporating DataOps is too large',\n",
    "              'We haven\\'t budgeted or don\\'t have the budget for this']"
   ]
  },
  {
   "cell_type": "code",
   "execution_count": 6,
   "id": "f21afb8c",
   "metadata": {},
   "outputs": [],
   "source": [
    "colNames = ['Q14_M1','Q14_M2','Q14_M3','Q14_M4','Q14_M5']"
   ]
  },
  {
   "cell_type": "code",
   "execution_count": 7,
   "id": "9ddbed99",
   "metadata": {},
   "outputs": [],
   "source": [
    "newColNames = ['buy-in', 'lack of skills', 'implementation','knowledge','priority', 'communication', 'scale','budget' ]"
   ]
  },
  {
   "cell_type": "code",
   "execution_count": 8,
   "id": "09bffe38",
   "metadata": {},
   "outputs": [],
   "source": [
    "for i in range(len(q14Ansewrs)):\n",
    "    ans = q14Ansewrs[i]\n",
    "    df[newColNames[i]] = np.where(\n",
    "        (df[\"Q14_M1\"] == ans) |\n",
    "        (df[\"Q14_M2\"] == ans) |\n",
    "        (df[\"Q14_M3\"] == ans) |\n",
    "        (df[\"Q14_M4\"] == ans) |\n",
    "        (df[\"Q14_M5\"] == ans) , True, False)"
   ]
  },
  {
   "cell_type": "code",
   "execution_count": null,
   "id": "e0bbf777",
   "metadata": {},
   "outputs": [],
   "source": [
    "\n"
   ]
  },
  {
   "cell_type": "code",
   "execution_count": null,
   "id": "598e770b",
   "metadata": {},
   "outputs": [],
   "source": []
  },
  {
   "cell_type": "code",
   "execution_count": 10,
   "id": "28348e57",
   "metadata": {},
   "outputs": [
    {
     "data": {
      "text/plain": [
       "(600, 54)"
      ]
     },
     "execution_count": 10,
     "metadata": {},
     "output_type": "execute_result"
    }
   ],
   "source": [
    "df.shape"
   ]
  }
 ],
 "metadata": {
  "kernelspec": {
   "display_name": "Python 3 (ipykernel)",
   "language": "python",
   "name": "python3"
  },
  "language_info": {
   "codemirror_mode": {
    "name": "ipython",
    "version": 3
   },
   "file_extension": ".py",
   "mimetype": "text/x-python",
   "name": "python",
   "nbconvert_exporter": "python",
   "pygments_lexer": "ipython3",
   "version": "3.11.4"
  }
 },
 "nbformat": 4,
 "nbformat_minor": 5
}
